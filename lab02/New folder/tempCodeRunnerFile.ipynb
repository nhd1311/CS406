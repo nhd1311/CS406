path_list_test = 'D:\Study\CS331\lab02\week3\dataset\seg_test'
input = get_random_image(path_list_test)
hist_input = calculate_histogram(input)